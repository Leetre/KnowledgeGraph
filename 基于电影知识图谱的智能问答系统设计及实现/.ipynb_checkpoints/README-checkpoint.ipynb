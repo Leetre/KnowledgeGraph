{
 "cells": [
  {
   "cell_type": "markdown",
   "metadata": {},
   "source": [
    "# 对话效果展示"
   ]
  },
  {
   "cell_type": "markdown",
   "metadata": {},
   "source": [
    "![](./image/29.png)"
   ]
  },
  {
   "cell_type": "markdown",
   "metadata": {},
   "source": [
    "# 写在前面"
   ]
  },
  {
   "cell_type": "markdown",
   "metadata": {},
   "source": [
    "本项目是笔者兴趣而起，做的一个Demo级别的 KGQA。从2019.5.1晚上-2019.5.7日 发布起，耗时差不多一周。从各个模块的功能设计到模块间的交互，中间的细节令人咂舌，笔者估计用不了几周，连自己都会忘得差不多，因此为了避免自己遗忘程序的细节和具体实现，以及有助于阅读本项目的朋友，笔者额外写了一份本项目的教程，初学者可以先粗读一下`项目流程：基于电影知识图谱的智能问答系统设计及实现.ipynb` 和 `项目主程序流程图`。\n",
    "\n",
    "本项目的不足：\n",
    "1. 未使用protege进行OWL本体建模，因此本项目缺乏一些推理能力\n",
    "\n",
    "\n",
    "2. 对本体的属性挖掘并不彻底，以及属性的数据类别也不是很统一，因此无法做到回答更多类型的问题，比如：出生在同一天的演员，出生在同一地区的演员，上映在同一年的电影 等\n",
    "\n",
    "\n",
    "3. 缺乏程序与用户的交互界面，本来想着用pyqt5写一个，但考虑了一下学习时间，就暂时放弃了\n",
    "\n",
    "\n",
    "4. 数据缺乏：\n",
    "    1. 知识图谱中存储的数据并不充分\n",
    "    2. 用于训练分类器和挖掘规则的数据，也都是笔者用脑仁硬写的。。。\n",
    "    \n",
    "    \n",
    "5. 虽然笔者暂时想不起来，但一定有。。。。\n",
    "\n",
    "\n",
    "笔者目前仍是在读学生，有问题可以交流，联系`wechat: damo894127201`"
   ]
  },
  {
   "cell_type": "markdown",
   "metadata": {},
   "source": [
    "# 项目安装"
   ]
  },
  {
   "cell_type": "markdown",
   "metadata": {},
   "source": [
    "**本项目是在`win10`下开发的，运行环境都只在`win10`下测试过，其它版本的系统，笔者并没有测试！**"
   ]
  },
  {
   "cell_type": "markdown",
   "metadata": {},
   "source": [
    "## 安装neo4j"
   ]
  },
  {
   "cell_type": "markdown",
   "metadata": {},
   "source": [
    "需要安装`neo4j`图形数据库，作为知识图谱的存储载体，具体安装过程，读者可以参考相关博文。"
   ]
  },
  {
   "cell_type": "markdown",
   "metadata": {},
   "source": [
    "## 将数据导入neo4j"
   ]
  },
  {
   "cell_type": "markdown",
   "metadata": {},
   "source": [
    "你需要首先构建自己的知识图谱，需要存储到neo4j的数据，存储在`./data/question/`中，读者可以通过两种方式建立自己知识图谱：\n",
    "\n",
    "1. 通过Cypher语句将数据直接导入`neo4j`\n",
    "2. 通过`py2neo`Python库连接`neo4j`，导入数据 : `./src/ImportDataToNeo4j.py`\n",
    "\n",
    "这两种方式的细节请查看：`项目流程：基于电影知识图谱的智能问答系统设计及实现.ipynb` 第四章"
   ]
  },
  {
   "cell_type": "markdown",
   "metadata": {},
   "source": [
    "## 安装requirements.txt中的Python库"
   ]
  },
  {
   "cell_type": "markdown",
   "metadata": {},
   "source": [
    "`pip install package_name` 即可，都是很容易安装的包。当然读者也可以通过`python setup.py install`来安装。"
   ]
  },
  {
   "cell_type": "markdown",
   "metadata": {},
   "source": [
    "## 运行程序开启对话"
   ]
  },
  {
   "cell_type": "markdown",
   "metadata": {},
   "source": [
    "在你运行`./bin/main.py`开启对话前，读者需要首先启动自己的`neo4j`，并且到配置文件`../config/config.ini`中设置自己的`neo4j`的用户名和密码，配置文件中的用户名和密码都是`neo4j`默认的。启动`neo4j`的命令:`neo4j.bat console`。"
   ]
  },
  {
   "cell_type": "markdown",
   "metadata": {},
   "source": [
    "# 项目数据来源"
   ]
  },
  {
   "cell_type": "markdown",
   "metadata": {},
   "source": [
    "<font color='red'>本项目的数据来源于`CSDN博主appleyk` 的 [基于电影知识图谱的智能问答系统](https://blog.csdn.net/Appleyk/article/details/80331997)系列博客 ，感谢`appleyk`的无私奉献！</font>\n",
    "\n",
    "本项目与原项目的区别：\n",
    "1. 本项目是基于Python开发的，原项目是JAVA开发的；\n",
    "2. 本项目在分类问题时，采用了规则识别和分类器识别两种方案；原项目只有单一的分类器识别一种方案；\n",
    "3. 本项目在实现时，参考了原项目一部分思路；"
   ]
  },
  {
   "cell_type": "markdown",
   "metadata": {},
   "source": [
    "# 项目目录结构"
   ]
  },
  {
   "cell_type": "markdown",
   "metadata": {},
   "source": [
    "![](./image/28.png)"
   ]
  },
  {
   "cell_type": "markdown",
   "metadata": {},
   "source": [
    "特别需要注意：\n",
    "1. WARNING级别的日志：可用于改善知识图谱\n",
    "2. INFO级别的日志：用于改善规则和分类器"
   ]
  },
  {
   "cell_type": "markdown",
   "metadata": {},
   "source": [
    "# 项目主程序流程图"
   ]
  },
  {
   "cell_type": "markdown",
   "metadata": {},
   "source": [
    "![](./image/主程序流程图.jpg)"
   ]
  }
 ],
 "metadata": {
  "kernelspec": {
   "display_name": "Python 3",
   "language": "python",
   "name": "python3"
  },
  "language_info": {
   "codemirror_mode": {
    "name": "ipython",
    "version": 3
   },
   "file_extension": ".py",
   "mimetype": "text/x-python",
   "name": "python",
   "nbconvert_exporter": "python",
   "pygments_lexer": "ipython3",
   "version": "3.6.7"
  },
  "toc": {
   "base_numbering": 1,
   "nav_menu": {},
   "number_sections": true,
   "sideBar": true,
   "skip_h1_title": false,
   "title_cell": "Table of Contents",
   "title_sidebar": "Contents",
   "toc_cell": false,
   "toc_position": {
    "height": "calc(100% - 180px)",
    "left": "10px",
    "top": "150px",
    "width": "375.391px"
   },
   "toc_section_display": true,
   "toc_window_display": false
  },
  "varInspector": {
   "cols": {
    "lenName": 16,
    "lenType": 16,
    "lenVar": 40
   },
   "kernels_config": {
    "python": {
     "delete_cmd_postfix": "",
     "delete_cmd_prefix": "del ",
     "library": "var_list.py",
     "varRefreshCmd": "print(var_dic_list())"
    },
    "r": {
     "delete_cmd_postfix": ") ",
     "delete_cmd_prefix": "rm(",
     "library": "var_list.r",
     "varRefreshCmd": "cat(var_dic_list()) "
    }
   },
   "types_to_exclude": [
    "module",
    "function",
    "builtin_function_or_method",
    "instance",
    "_Feature"
   ],
   "window_display": false
  }
 },
 "nbformat": 4,
 "nbformat_minor": 2
}
