{
 "cells": [
  {
   "cell_type": "markdown",
   "metadata": {},
   "source": [
    "# 读者须知"
   ]
  },
  {
   "cell_type": "markdown",
   "metadata": {},
   "source": [
    "<font color='red'>本项目的数据来源于`CSDN博主appleyk` 的 [基于电影知识图谱的智能问答系统](https://blog.csdn.net/Appleyk/article/details/80331997)系列博客 ，感谢`appleyk`的无私奉献！</font>\n",
    "\n",
    "本项目与原项目的区别：\n",
    "1. 本项目是基于Python开发的，原项目是JAVA开发的；\n",
    "2. 本项目在分类问题时，采用了规则识别和分类器识别两种方案；原项目只有单一的分类器识别一种方案；\n",
    "3. 本项目在实现时，参考了原项目一部分思路；\n",
    "\n",
    "由于笔者仍是在读学生，欢迎朋友交流，联系方式：**Weiyang ,wechat:damo894127201**"
   ]
  },
  {
   "cell_type": "markdown",
   "metadata": {},
   "source": [
    "# 项目介绍"
   ]
  },
  {
   "cell_type": "markdown",
   "metadata": {},
   "source": [
    "## 构建知识图谱"
   ]
  },
  {
   "cell_type": "markdown",
   "metadata": {},
   "source": [
    "第`3,4,5`节介绍的便是如何构建知识图谱"
   ]
  },
  {
   "cell_type": "markdown",
   "metadata": {},
   "source": [
    "## 智能问答流程"
   ]
  },
  {
   "cell_type": "markdown",
   "metadata": {},
   "source": [
    "所谓智能问答，就是程序在接收到用户提出的问题后，通过程序处理，最后可以给出一些候选答案，甚至一个精准的答案。本项目智能问答流程如下：\n",
    "\n",
    "1. 程序接收到用户提出的问题，即用户输入\n",
    "\n",
    "\n",
    "2. 程序对原问题进行改写，将原问题中出现的 `演员姓名` `电影名字` `电影体裁` `参演` `电影介绍` `电影评分` `电影发布日期` `演员出生地` 等一些在知识谱图中的节点类型或属性名，以及其它等价说法，进行替换，改写成 我们预先构造的问题模板。比如，`李连杰的生日是多少` 改写为 `nr的生日是多少`\n",
    "\n",
    "3. 将上一步改写后的问题，通过分类器进行匹配，选取最匹配的问题模板，比如 `nr 生日`。这些问题模板，实际上是我们对同一类问题，预先定义的 `cypher查询语句` ，只是在槽位处空缺而已\n",
    "\n",
    "4. 将得到的问题模板 ，插入 实际的值(李连杰),得到最终的 `cypher查询语句` ，比如 `match(p:Actor) where p.name= \"李连杰\" return p.birth`\n",
    "\n",
    "5. 通过py2neo调用neo4j查询结果，并将结果返回给用户"
   ]
  },
  {
   "cell_type": "markdown",
   "metadata": {},
   "source": [
    "## 用户交互界面"
   ]
  },
  {
   "cell_type": "markdown",
   "metadata": {},
   "source": [
    "构造一个用户与程序的交互界面。本版本暂时没有设计。"
   ]
  },
  {
   "cell_type": "markdown",
   "metadata": {},
   "source": [
    "# 数据介绍"
   ]
  },
  {
   "cell_type": "markdown",
   "metadata": {},
   "source": [
    "在`./data/source/`目录下，有5个csv文件，分别是：\n",
    "1. `genre.csv`：存储的是电影体裁的汇总，有2列，分别是`gid`和`gname`，表示 体裁的ID 和 体裁的名字\n",
    "\n",
    "\n",
    "2. `movie.csv`：存储的是电影的基本信息，有5列，分别是 `movie_id`,`title`,`introduction`,`rating`和`releasedate`\n",
    "，表示 电影的ID,电影名，介绍，评分，电影发布的日期\n",
    "\n",
    "3. `movie_to_genre.csv`：存储的是电影ID与其对应的体裁类别ID，有2列: `movie_id` 和 `gid`\n",
    "\n",
    "\n",
    "4. `person.csv`：存储的是演员的基本信息，有6列：`pid` `birth` `death` `name` `biography` `birthplace`,表示 演员ID，出生日期，死亡日期，姓名，人物传记，出生地\n",
    "\n",
    "\n",
    "5. `person_to_movie.csv`：存储 演员ID 与其出演的 电影ID 的对应关系，有2列：`pid` `movie_id`"
   ]
  },
  {
   "cell_type": "markdown",
   "metadata": {},
   "source": [
    "# 本体建模"
   ]
  },
  {
   "cell_type": "markdown",
   "metadata": {},
   "source": [
    "这里的本体建模，暂时不用`protege`工具，但是我们需要指定`neo4j`中的`节点类型(实体)`和`关系类型(边)`，以及`节点属性`和`关系属性`等一些基本的信息。节点类型便是我们要建立的本体，关系类型是本体之间的关系。"
   ]
  },
  {
   "cell_type": "markdown",
   "metadata": {},
   "source": [
    "## 本体：电影Movie"
   ]
  },
  {
   "cell_type": "markdown",
   "metadata": {},
   "source": [
    "我们用 `Movie`来表示电影类的节点"
   ]
  },
  {
   "cell_type": "markdown",
   "metadata": {},
   "source": [
    "### 属性：movie_id"
   ]
  },
  {
   "cell_type": "markdown",
   "metadata": {},
   "source": [
    "`movie_id` 表示电影的ID，用来建立电影节点 与 电影题材节点，以及演员节点的之间的关系。"
   ]
  },
  {
   "cell_type": "markdown",
   "metadata": {},
   "source": [
    "### 属性：title"
   ]
  },
  {
   "cell_type": "markdown",
   "metadata": {},
   "source": [
    "`title`，表示电影的名字"
   ]
  },
  {
   "cell_type": "markdown",
   "metadata": {},
   "source": [
    "### 属性：introduction"
   ]
  },
  {
   "cell_type": "markdown",
   "metadata": {},
   "source": [
    "`introduction`，表示电影的介绍"
   ]
  },
  {
   "cell_type": "markdown",
   "metadata": {},
   "source": [
    "### 属性：rating"
   ]
  },
  {
   "cell_type": "markdown",
   "metadata": {},
   "source": [
    "`rating`，表示观众给电影的评分"
   ]
  },
  {
   "cell_type": "markdown",
   "metadata": {},
   "source": [
    "### 属性：releasedate"
   ]
  },
  {
   "cell_type": "markdown",
   "metadata": {},
   "source": [
    "`releasedate`,表示电影的发布日期"
   ]
  },
  {
   "cell_type": "markdown",
   "metadata": {},
   "source": [
    "## 本体：演员Actor"
   ]
  },
  {
   "cell_type": "markdown",
   "metadata": {},
   "source": [
    "我们用`Actor`,表示演员类的节点"
   ]
  },
  {
   "cell_type": "markdown",
   "metadata": {},
   "source": [
    "### 属性：pid"
   ]
  },
  {
   "cell_type": "markdown",
   "metadata": {},
   "source": [
    "`pid`，演员的ID，用来与参演的电影，建立关系"
   ]
  },
  {
   "cell_type": "markdown",
   "metadata": {},
   "source": [
    "### 属性：birth"
   ]
  },
  {
   "cell_type": "markdown",
   "metadata": {},
   "source": [
    "`birth`，演员的出生时间"
   ]
  },
  {
   "cell_type": "markdown",
   "metadata": {},
   "source": [
    "### 属性：death"
   ]
  },
  {
   "cell_type": "markdown",
   "metadata": {},
   "source": [
    "`birth`，演员的去世时间"
   ]
  },
  {
   "cell_type": "markdown",
   "metadata": {},
   "source": [
    "### 属性：name"
   ]
  },
  {
   "cell_type": "markdown",
   "metadata": {},
   "source": [
    "`name`，演员的名字"
   ]
  },
  {
   "cell_type": "markdown",
   "metadata": {},
   "source": [
    "### 属性：biography"
   ]
  },
  {
   "cell_type": "markdown",
   "metadata": {},
   "source": [
    "`biography`，演员的传记"
   ]
  },
  {
   "cell_type": "markdown",
   "metadata": {},
   "source": [
    "### 属性：birthplace"
   ]
  },
  {
   "cell_type": "markdown",
   "metadata": {},
   "source": [
    "`birthplace`，演员的出生地"
   ]
  },
  {
   "cell_type": "markdown",
   "metadata": {},
   "source": [
    "## 本体：电影体裁Genre"
   ]
  },
  {
   "cell_type": "markdown",
   "metadata": {},
   "source": [
    "`Genre`，电影体裁类节点"
   ]
  },
  {
   "cell_type": "markdown",
   "metadata": {},
   "source": [
    "### 属性：体裁的名称name"
   ]
  },
  {
   "cell_type": "markdown",
   "metadata": {},
   "source": [
    "用`name`表示"
   ]
  },
  {
   "cell_type": "markdown",
   "metadata": {},
   "source": [
    "## 本体关系：电影 `is` 体裁"
   ]
  },
  {
   "cell_type": "markdown",
   "metadata": {},
   "source": [
    "该关系表示，电影是什么体裁的，用`is`表示"
   ]
  },
  {
   "cell_type": "markdown",
   "metadata": {},
   "source": [
    "### 属性：movie_id"
   ]
  },
  {
   "cell_type": "markdown",
   "metadata": {},
   "source": [
    "`movie_id`：电影ID"
   ]
  },
  {
   "cell_type": "markdown",
   "metadata": {},
   "source": [
    "### 属性：gid"
   ]
  },
  {
   "cell_type": "markdown",
   "metadata": {},
   "source": [
    "`gid`：电影体裁ID"
   ]
  },
  {
   "cell_type": "markdown",
   "metadata": {},
   "source": [
    "## 本体关系：演员 `参演` 电影"
   ]
  },
  {
   "cell_type": "markdown",
   "metadata": {},
   "source": [
    "该关系表示，演员参演了什么电影，演员可以参演多部电影，一部电影可以有多个演员参演，我们用`参演`表示此关系"
   ]
  },
  {
   "cell_type": "markdown",
   "metadata": {},
   "source": [
    "### 属性：pid"
   ]
  },
  {
   "cell_type": "markdown",
   "metadata": {},
   "source": [
    "`pid`：演员ID"
   ]
  },
  {
   "cell_type": "markdown",
   "metadata": {},
   "source": [
    "### 属性：movie_id"
   ]
  },
  {
   "cell_type": "markdown",
   "metadata": {},
   "source": [
    "`movie_id`：电影ID"
   ]
  },
  {
   "cell_type": "markdown",
   "metadata": {},
   "source": [
    "# 数据加载到neo4j"
   ]
  },
  {
   "cell_type": "markdown",
   "metadata": {},
   "source": [
    "## 调用Cypher语句直接插入"
   ]
  },
  {
   "cell_type": "markdown",
   "metadata": {},
   "source": [
    "`CSV类文件`是可以直接导入`neo4j`数据库中的，我们首先需要将待插入的`csv文件`放置到，`neo4j`的安装文件夹下的`neo4j-community-3.5.5\\import\\`里，如果没有找到`import`文件夹，则自己创建一个即可，其次便是如下在`neo4j`的命令操作。\n",
    "\n",
    "注意：由于`CSV`文件导入`neo4j`的数据都是字符串的数据类型，因此对于一些有特殊要求的字段，我们需要在刚导入的时候进行类型转换。\n",
    "\n",
    "**`Merge子句`的作用**有两个：\n",
    "1. 当模式（Pattern）存在时，匹配该模式\n",
    "2. 当模式不存在时，创建新的模式，功能是match子句和create的组合。在merge子句之后，可以显式指定on creae和on match子句，用于修改绑定的节点或关系的属性。\n",
    "\n",
    "通过`merge子句`，你可以指定图形中必须存在一个节点，该节点必须具有特定的标签，属性等，如果不存在，那么merge子句将创建相应的节点。"
   ]
  },
  {
   "cell_type": "markdown",
   "metadata": {},
   "source": [
    "### 创建Genre类节点：电影体裁类"
   ]
  },
  {
   "cell_type": "markdown",
   "metadata": {},
   "source": [
    "插入电影体裁文件`genre.csv`,Cypher命令如下：\n",
    "```cypher\n",
    "load csv with headers from \"file:///genre.csv\" as line \n",
    "merge (p:Genre{gid:toInteger(line.gid),name:line.gname})\n",
    "```"
   ]
  },
  {
   "cell_type": "markdown",
   "metadata": {},
   "source": [
    "### 创建Actor类节点：演员类"
   ]
  },
  {
   "cell_type": "markdown",
   "metadata": {},
   "source": [
    "插入演员信息文件`person.csv`,Cypher命令如下：\n",
    "```cypher\n",
    "load csv with headers from \"file:///person.csv\" as line\n",
    "merge(p:Actor{pid:toInteger(line.pid),birth:line.birth,death:line.death,name:line.name,biography:line.biography,birthplace:line.birthplace})\n",
    "```"
   ]
  },
  {
   "cell_type": "markdown",
   "metadata": {},
   "source": [
    "### 创建Movie类节点：电影类"
   ]
  },
  {
   "cell_type": "markdown",
   "metadata": {},
   "source": [
    "插入电影信息文件`movie.csv`,Cypher命令如下：\n",
    "```cypher\n",
    "load csv with headers from \"file:///movie.csv\" as line \n",
    "merge(p:Movie{movie_id:toInteger(line.movie_id),title:line.title,introduction:line.introduction,rating:toFloat(line.rating),releasedate:line.releasedate})\n",
    "```"
   ]
  },
  {
   "cell_type": "markdown",
   "metadata": {},
   "source": [
    "### 创建关系：`is`"
   ]
  },
  {
   "cell_type": "markdown",
   "metadata": {},
   "source": [
    "插入电影与体裁的映射文件`movie_to_genre.csv`,Cypher命令如下：\n",
    "```cypher\n",
    "load csv with headers from \"file:///movie_to_genre.csv\" as line \n",
    "match(from:Movie{movie_id:toInteger(line.movie_id)}),(to:Genre{gid:toInteger(line.gid)})\n",
    "merge (from)-[r:is{movie_id:toInteger(line.movie_id),gid:toInteger(line.gid)}]->(to)\n",
    "```"
   ]
  },
  {
   "cell_type": "markdown",
   "metadata": {},
   "source": [
    "### 创建关系：`参演`"
   ]
  },
  {
   "cell_type": "markdown",
   "metadata": {},
   "source": [
    "插入演员与电影的映射文件`person_to_movie.csv`,Cypher命令如下：\n",
    "```cypher\n",
    "load csv with headers from \"file:///person_to_movie.csv\" as line \n",
    "match(from:Actor{pid:toInteger(line.pid)}),(to:Movie{movie_id:toInteger(line.movie_id)}) \n",
    "merge (from)-[r:参演{pid:toInteger(line.pid),movie_id:toInteger(line.movie_id)}]->(to)\n",
    "```"
   ]
  },
  {
   "cell_type": "markdown",
   "metadata": {},
   "source": [
    "## 用Python库py2neo调用neo4j插入"
   ]
  },
  {
   "cell_type": "markdown",
   "metadata": {},
   "source": [
    "### 连接数据库"
   ]
  },
  {
   "cell_type": "markdown",
   "metadata": {
    "ExecuteTime": {
     "end_time": "2019-05-01T13:50:39.625558Z",
     "start_time": "2019-05-01T13:50:39.354507Z"
    }
   },
   "source": [
    "```Python\n",
    "from py2neo import Graph\n",
    "\n",
    "graph = Graph('http://localhost:7474',username='neo4j',password='1990121')\n",
    "\n",
    "```"
   ]
  },
  {
   "cell_type": "markdown",
   "metadata": {},
   "source": [
    "### py2neo执行Cypher语句"
   ]
  },
  {
   "cell_type": "markdown",
   "metadata": {
    "ExecuteTime": {
     "end_time": "2019-05-01T13:52:06.599012Z",
     "start_time": "2019-05-01T13:50:43.072217Z"
    }
   },
   "source": [
    "```Python\n",
    "# 创建Genre类节点：电影体裁类\n",
    "statement = 'load csv with headers from \"file:///genre.csv\" as line merge (p:Genre{gid:toInteger(line.gid),name:line.gname})'\n",
    "graph.evaluate(statement)\n",
    "\n",
    "# 创建Actor类节点：演员类\n",
    "statement = 'load csv with headers from \"file:///person.csv\" as line merge(p:Actor{pid:toInteger(line.pid),birth:line.birth,death:line.death,name:line.name,biography:line.biography,birthplace:line.birthplace})'\n",
    "graph.evaluate(statement)\n",
    "\n",
    "# 创建Movie类节点：电影类\n",
    "statement = 'load csv with headers from \"file:///movie.csv\" as line merge(p:Movie{movie_id:toInteger(line.movie_id),title:line.title,introduction:line.introduction,rating:toFloat(line.rating),releasedate:line.releasedate})'\n",
    "graph.evaluate(statement)\n",
    "\n",
    "# 创建关系：is\n",
    "statement = 'load csv with headers from \"file:///movie_to_genre.csv\" as line match(from:Movie{movie_id:toInteger(line.movie_id)}),(to:Genre{gid:toInteger(line.gid)}) merge (from)-[r:is{movie_id:toInteger(line.movie_id),gid:toInteger(line.gid)}]->(to)'\n",
    "graph.evaluate(statement)\n",
    "\n",
    "# 创建关系：参演\n",
    "statement = 'load csv with headers from \"file:///person_to_movie.csv\" as line match(from:Actor{pid:toInteger(line.pid)}),(to:Movie{movie_id:toInteger(line.movie_id)}) merge (from)-[r:参演{pid:toInteger(line.pid),movie_id:toInteger(line.movie_id)}]->(to)'\n",
    "graph.evaluate(statement)\n",
    "```"
   ]
  },
  {
   "cell_type": "markdown",
   "metadata": {},
   "source": [
    "## 知识图谱结果展示"
   ]
  },
  {
   "cell_type": "markdown",
   "metadata": {},
   "source": [
    "### 总体数据概览"
   ]
  },
  {
   "cell_type": "markdown",
   "metadata": {},
   "source": [
    "从下图，我们可知道该知识图谱中：\n",
    "\n",
    "1. 有`5043`个节点，有`Actor`,`Genre`,`Movie`三种类型的节点 ；\n",
    "\n",
    "\n",
    "2. 有21794个边(关系)，有`is` ,`参演` 两种类型的关系；\n",
    "\n",
    "3. 有 `biography` `birth` `birthplace` `death` `gid` `introduction` `movie_id` `name` `pid` `rating` `releasedate` `title` 共12种属性；\n",
    "\n",
    "![](./image/0.png)"
   ]
  },
  {
   "cell_type": "markdown",
   "metadata": {},
   "source": [
    "### 查询有哪些演员"
   ]
  },
  {
   "cell_type": "markdown",
   "metadata": {},
   "source": [
    "![](./image/)"
   ]
  },
  {
   "cell_type": "markdown",
   "metadata": {},
   "source": [
    "![](./image/13.png)\n",
    "\n",
    "![](./image/2.png)"
   ]
  },
  {
   "cell_type": "markdown",
   "metadata": {},
   "source": [
    "### 查询有哪些电影"
   ]
  },
  {
   "cell_type": "markdown",
   "metadata": {},
   "source": [
    "![](./image/14.png)\n",
    "\n",
    "![](./image/3.png)"
   ]
  },
  {
   "cell_type": "markdown",
   "metadata": {},
   "source": [
    "### 查询有哪些电影体裁"
   ]
  },
  {
   "cell_type": "markdown",
   "metadata": {},
   "source": [
    "![](./image/15.png)\n",
    "\n",
    "![](./image/4.png)"
   ]
  },
  {
   "cell_type": "markdown",
   "metadata": {},
   "source": [
    "### 查询某个电影有哪些演员参演"
   ]
  },
  {
   "cell_type": "markdown",
   "metadata": {},
   "source": [
    "![](./image/5.png)\n",
    "\n",
    "![](./image/6.png)"
   ]
  },
  {
   "cell_type": "markdown",
   "metadata": {},
   "source": [
    "### 查询某个演员都参演了哪些电影"
   ]
  },
  {
   "cell_type": "markdown",
   "metadata": {},
   "source": [
    "![](./image/7.png)\n",
    "\n",
    "![](./image/8.png)"
   ]
  },
  {
   "cell_type": "markdown",
   "metadata": {},
   "source": [
    "### 查询某个体裁的电影都有哪些"
   ]
  },
  {
   "cell_type": "markdown",
   "metadata": {},
   "source": [
    "![](./image/9.png)\n",
    "\n",
    "![](./image/10.png)"
   ]
  },
  {
   "cell_type": "markdown",
   "metadata": {},
   "source": [
    "### 查询某两个演员之间是否共同出演过电影"
   ]
  },
  {
   "cell_type": "markdown",
   "metadata": {},
   "source": [
    "事实上，这个可以判定两个演员是否认识，毕竟共同出演一部电影，认识的可能性还是很高的。\n",
    "\n",
    "![](./image/11.png)\n",
    "\n",
    "![](./image/12.png)"
   ]
  },
  {
   "cell_type": "markdown",
   "metadata": {},
   "source": [
    "### 查询两个彼此没有合作过的演员，是否与另一个演员，分别出演过电影"
   ]
  },
  {
   "cell_type": "markdown",
   "metadata": {},
   "source": [
    "其实，这个可以认为，两个演员是否有一个共同的朋友，而且他们彼此间还互相不认识\n",
    "\n",
    "先查询两个彼此没有共同出演过任何电影的演员对：\n",
    "\n",
    "![](./image/)"
   ]
  },
  {
   "cell_type": "markdown",
   "metadata": {},
   "source": [
    "#### 先查询两个彼此没有共同出演过任何电影的演员对："
   ]
  },
  {
   "cell_type": "markdown",
   "metadata": {},
   "source": [
    "![](./image/16.png)"
   ]
  },
  {
   "cell_type": "markdown",
   "metadata": {},
   "source": [
    "#### 再查下两个演员是否与另一个演员共同出演过电影"
   ]
  },
  {
   "cell_type": "markdown",
   "metadata": {},
   "source": [
    "![](./image/17.png)\n",
    "\n",
    "![](./image/18.png)"
   ]
  },
  {
   "cell_type": "markdown",
   "metadata": {},
   "source": [
    "# Python调用neo4j进行查询"
   ]
  },
  {
   "cell_type": "markdown",
   "metadata": {},
   "source": [
    "## 问题"
   ]
  },
  {
   "cell_type": "markdown",
   "metadata": {},
   "source": [
    "问：章子怡都演了哪些电影？"
   ]
  },
  {
   "cell_type": "markdown",
   "metadata": {},
   "source": [
    "## 直接用Cypher语句查询neo4j"
   ]
  },
  {
   "cell_type": "markdown",
   "metadata": {},
   "source": [
    "Cypher语句：`match (p:Actor)-[r:参演]->(m:Movie) where p.name=\"章子怡\" return m.title`，结果如下：\n",
    "![](./image/1.png)"
   ]
  },
  {
   "cell_type": "markdown",
   "metadata": {},
   "source": [
    "## py2neo查询"
   ]
  },
  {
   "cell_type": "code",
   "execution_count": 1,
   "metadata": {
    "ExecuteTime": {
     "end_time": "2019-05-05T04:47:43.935417Z",
     "start_time": "2019-05-05T04:47:43.674082Z"
    }
   },
   "outputs": [],
   "source": [
    "from py2neo import Graph\n",
    "\n",
    "graph = Graph('http://localhost:7474',username='neo4j',password='neo4j')"
   ]
  },
  {
   "cell_type": "code",
   "execution_count": 5,
   "metadata": {
    "ExecuteTime": {
     "end_time": "2019-05-05T04:48:29.752805Z",
     "start_time": "2019-05-05T04:48:28.718792Z"
    }
   },
   "outputs": [
    {
     "data": {
      "text/plain": [
       "<py2neo.database.Cursor at 0x1ce82e87d30>"
      ]
     },
     "execution_count": 5,
     "metadata": {},
     "output_type": "execute_result"
    }
   ],
   "source": [
    "statement = 'match (p:Actor)-[r:参演]->(m:Movie) where p.name=\"章子怡\" return m.title'\n",
    "\n",
    "# 执行查询语句，返回一个游标对象，该游标记录了所有返回的查询结果\n",
    "cursor = graph.run(statement)\n",
    "cursor"
   ]
  },
  {
   "cell_type": "code",
   "execution_count": 6,
   "metadata": {
    "ExecuteTime": {
     "end_time": "2019-05-05T04:48:31.638609Z",
     "start_time": "2019-05-05T04:48:31.629633Z"
    }
   },
   "outputs": [
    {
     "name": "stdout",
     "output_type": "stream",
     "text": [
      "<Record m.title='从天儿降'> \t 从天儿降 \t <class 'str'>\n",
      "<Record m.title='Ye yan'> \t Ye yan \t <class 'str'>\n",
      "<Record m.title='Rush Hour 2'> \t Rush Hour 2 \t <class 'str'>\n",
      "<Record m.title='十面埋伏'> \t 十面埋伏 \t <class 'str'>\n",
      "<Record m.title='조폭 마누라 2: 돌아온 전설'> \t 조폭 마누라 2: 돌아온 전설 \t <class 'str'>\n",
      "<Record m.title='奔爱'> \t 奔爱 \t <class 'str'>\n",
      "<Record m.title='茉莉花开'> \t 茉莉花开 \t <class 'str'>\n",
      "<Record m.title='龙在哪里？'> \t 龙在哪里？ \t <class 'str'>\n",
      "<Record m.title='非常幸运'> \t 非常幸运 \t <class 'str'>\n",
      "<Record m.title='卧虎藏龙'> \t 卧虎藏龙 \t <class 'str'>\n",
      "<Record m.title='紫蝴蝶'> \t 紫蝴蝶 \t <class 'str'>\n",
      "<Record m.title='最爱'> \t 最爱 \t <class 'str'>\n",
      "<Record m.title='越来越好之村晚'> \t 越来越好之村晚 \t <class 'str'>\n",
      "<Record m.title='무사'> \t 무사 \t <class 'str'>\n",
      "<Record m.title='角色于我'> \t 角色于我 \t <class 'str'>\n",
      "<Record m.title='Godzilla vs. Kong'> \t Godzilla vs. Kong \t <class 'str'>\n",
      "<Record m.title='我的父亲母亲'> \t 我的父亲母亲 \t <class 'str'>\n",
      "<Record m.title='Fei chang wan mei'> \t Fei chang wan mei \t <class 'str'>\n",
      "<Record m.title='建国大业'> \t 建国大业 \t <class 'str'>\n",
      "<Record m.title='危险关系'> \t 危险关系 \t <class 'str'>\n",
      "<Record m.title='2046'> \t 2046 \t <class 'str'>\n",
      "<Record m.title='Cause: The Birth of Hero'> \t Cause: The Birth of Hero \t <class 'str'>\n",
      "<Record m.title='Shu shan zheng zhuan'> \t Shu shan zheng zhuan \t <class 'str'>\n",
      "<Record m.title='Godzilla: King of Monsters'> \t Godzilla: King of Monsters \t <class 'str'>\n",
      "<Record m.title='太平轮(下)'> \t 太平轮(下) \t <class 'str'>\n",
      "<Record m.title='星星点灯'> \t 星星点灯 \t <class 'str'>\n",
      "<Record m.title='太平轮(上)'> \t 太平轮(上) \t <class 'str'>\n",
      "<Record m.title='Untitled Cloverfield Movie'> \t Untitled Cloverfield Movie \t <class 'str'>\n",
      "<Record m.title='在一起'> \t 在一起 \t <class 'str'>\n",
      "<Record m.title='TMNT'> \t TMNT \t <class 'str'>\n",
      "<Record m.title='一代宗师'> \t 一代宗师 \t <class 'str'>\n",
      "<Record m.title='Horsemen'> \t Horsemen \t <class 'str'>\n",
      "<Record m.title='オペレッタ狸御殿'> \t オペレッタ狸御殿 \t <class 'str'>\n",
      "<Record m.title='罗曼蒂克消亡史'> \t 罗曼蒂克消亡史 \t <class 'str'>\n",
      "<Record m.title='无问西东'> \t 无问西东 \t <class 'str'>\n",
      "<Record m.title='Mei Lanfang'> \t Mei Lanfang \t <class 'str'>\n",
      "<Record m.title='Memoirs of a Geisha'> \t Memoirs of a Geisha \t <class 'str'>\n",
      "<Record m.title='英雄'> \t 英雄 \t <class 'str'>\n"
     ]
    }
   ],
   "source": [
    "while cursor.forward():\n",
    "    print(cursor.current,'\\t',cursor.current['m.title'],'\\t',type(cursor.current['m.title']))"
   ]
  },
  {
   "cell_type": "markdown",
   "metadata": {},
   "source": [
    "# 智能问答"
   ]
  },
  {
   "cell_type": "markdown",
   "metadata": {},
   "source": [
    "本项目需要训练一个朴素贝叶斯分类器，可以通过训练问题集合进行问题模板概率匹配。\n",
    "\n",
    "通过**改写原始问句** ，我们可以**用朴素贝叶斯分类器**，来识别 **该问句** 与 我们已经定义好的 **问题模板** 哪个最像，我们用**最像的那个问题模板，对应的Cypher查询语句** 到知识图谱中 **进行查询，进而获取问题的结果，返回给用户**。"
   ]
  },
  {
   "cell_type": "markdown",
   "metadata": {},
   "source": [
    "## 获取原始问句"
   ]
  },
  {
   "cell_type": "markdown",
   "metadata": {},
   "source": [
    "## 抽象问句"
   ]
  },
  {
   "cell_type": "markdown",
   "metadata": {},
   "source": [
    "### 分词"
   ]
  },
  {
   "cell_type": "markdown",
   "metadata": {},
   "source": [
    "#### 分词器的选择"
   ]
  },
  {
   "cell_type": "markdown",
   "metadata": {},
   "source": [
    "分词器，是将用户输入的一段文本，分析成符合逻辑的一种工具。到目前为止，分词器还无法做到完全符合人们的要求。依据分词效果，可以分为：\n",
    "\n",
    "1. 单字分词：例如 `中国人` 分为： `中` `国` `人`\n",
    "\n",
    "2. bi-gram分词：例如 `中国人` 分为：`中国` `国人`\n",
    "\n",
    "3. 词典分词：例如，`中国人` 分为：`中国`  `国人`  `中国人`，即如果我们定义的词典中有该词，则切分出来\n",
    "\n",
    "常用的分词器有：\n",
    "\n",
    "1. 结巴分词\n",
    "2. LTP\n",
    "3. HanLP\n",
    "4. FudanNLP\n",
    "5. THULAC\n",
    "6. NLPIR\n",
    "7. BosonNLP\n",
    "8. 百度NLP\n",
    "9. 腾讯文智\n",
    "10. 阿里云NLP\n",
    "11. jiagu\n",
    "12. 庖丁分词\n",
    "13. 极易分词\n",
    "\n",
    "\n",
    "我们可以根据自己的需求选择分词器，目前大多数分词器都具备**分词，词性标注和关键词抽取**的功能，这里我们选择`结巴分词`。"
   ]
  },
  {
   "cell_type": "markdown",
   "metadata": {},
   "source": [
    "#### 结巴分词和词性标注效果"
   ]
  },
  {
   "cell_type": "code",
   "execution_count": 1,
   "metadata": {
    "ExecuteTime": {
     "end_time": "2019-05-02T07:37:58.626418Z",
     "start_time": "2019-05-02T07:37:57.187262Z"
    }
   },
   "outputs": [
    {
     "name": "stderr",
     "output_type": "stream",
     "text": [
      "Building prefix dict from the default dictionary ...\n",
      "Loading model from cache C:\\Users\\未央\\AppData\\Local\\Temp\\jieba.cache\n",
      "Loading model cost 0.724 seconds.\n",
      "Prefix dict has been built succesfully.\n"
     ]
    },
    {
     "name": "stdout",
     "output_type": "stream",
     "text": [
      "全模式分词结果： 新华/新华社/马德里/德里/5/月/1/日电///谢/宇/智//2018/2019/赛季/欧洲/足球/冠军/冠军联赛/联赛/1/日/展开/半决赛/决赛/首回/首回合/回合/的/一场/对决///西甲/豪门/门巴/巴塞/巴塞罗那/塞罗/罗那/主场/3/0/击败/英超/英超球/球队/利物/利物浦///牢牢/掌握/晋级/主动/主动权//\n",
      "\n",
      "精确模式分词结果： 新华社/马德里/5/月/1/日电/（/谢宇智/）/2018/-/2019/赛季/欧洲/足球/冠军联赛/1/日/展开/半决赛/首回合/的/一场/对决/，/西甲/豪门/巴塞罗那/主场/3/:/0/击败/英超/球队/利物浦/，/牢牢/掌握/晋级/主动权/。\n",
      "\n",
      "搜索引擎模式分词结果： 新华/新华社/德里/马德里/5/月/1/日电/（/谢宇智/）/2018/-/2019/赛季/欧洲/足球/冠军/联赛/冠军联赛/1/日/展开/决赛/半决赛/首回/回合/首回合/的/一场/对决/，/西甲/豪门/巴塞/塞罗/罗那/巴塞罗那/主场/3/:/0/击败/英超/球队/利物/利物浦/，/牢牢/掌握/晋级/主动/主动权/。\n"
     ]
    }
   ],
   "source": [
    "import jieba as jb\n",
    "\n",
    "text = '新华社马德里5月1日电（谢宇智）2018-2019赛季欧洲足球冠军联赛1日展开半决赛首回合的一场对决，\\\n",
    "西甲豪门巴塞罗那主场3:0击败英超球队利物浦，牢牢掌握晋级主动权。'\n",
    "\n",
    "# 分词\n",
    "all_result = jb.cut(text,cut_all=True) # 全模式\n",
    "accurate_result = jb.cut(text,cut_all=False) # 精确模式，结巴默认是精确模式\n",
    "search_result = jb.cut_for_search(text) # 搜索引擎模式\n",
    "\n",
    "print('全模式分词结果：','/'.join(all_result))\n",
    "print()\n",
    "print('精确模式分词结果：','/'.join(accurate_result))\n",
    "print()\n",
    "print('搜索引擎模式分词结果：','/'.join(search_result))"
   ]
  },
  {
   "cell_type": "code",
   "execution_count": 2,
   "metadata": {
    "ExecuteTime": {
     "end_time": "2019-05-02T07:38:03.746525Z",
     "start_time": "2019-05-02T07:38:02.499860Z"
    }
   },
   "outputs": [
    {
     "name": "stdout",
     "output_type": "stream",
     "text": [
      "新华社 \t nt\n",
      "马德里 \t nr\n",
      "5 \t m\n",
      "月 \t m\n",
      "1 \t m\n",
      "日电 \t j\n",
      "（ \t x\n",
      "谢宇智 \t nr\n",
      "） \t x\n",
      "2018 \t m\n",
      "- \t x\n",
      "2019 \t m\n",
      "赛季 \t t\n",
      "欧洲 \t ns\n",
      "足球 \t n\n",
      "冠军联赛 \t n\n",
      "1 \t m\n",
      "日 \t m\n",
      "展开 \t v\n",
      "半决赛 \t n\n",
      "首回合 \t i\n",
      "的 \t uj\n",
      "一场 \t m\n",
      "对决 \t v\n",
      "， \t x\n",
      "西甲 \t ns\n",
      "豪门 \t n\n",
      "巴塞罗那 \t ns\n",
      "主场 \t n\n",
      "3 \t x\n",
      ": \t x\n",
      "0 \t x\n",
      "击败 \t v\n",
      "英超 \t nr\n",
      "球队 \t n\n",
      "利物浦 \t ns\n",
      "， \t x\n",
      "牢牢 \t d\n",
      "掌握 \t v\n",
      "晋级 \t nr\n",
      "主动权 \t n\n",
      "。 \t x\n"
     ]
    }
   ],
   "source": [
    "import jieba.posseg as pseg\n",
    "\n",
    "# 词性标注结果\n",
    "words = pseg.cut(text)\n",
    "for w in words:\n",
    "    print(w.word,'\\t',w.flag)"
   ]
  },
  {
   "cell_type": "markdown",
   "metadata": {},
   "source": [
    "结巴词性标注结果对照图:\n",
    "\n",
    "![](./image/19.png)\n",
    "\n",
    "![](./image/20.png)"
   ]
  },
  {
   "cell_type": "markdown",
   "metadata": {},
   "source": [
    "#### 自定义词典介绍"
   ]
  },
  {
   "cell_type": "markdown",
   "metadata": {},
   "source": [
    "由于结巴分词是面向多数场景下的分词工具，针对特定场景下的分词，总会出现：有些不该切分的词给切分，该切分的词没有彻底切分开来的情况。因此，我们需要加载针对该领域的特定词典，辅助结巴分词，将那些该切分的词切开。\n",
    "\n",
    "下面是对需要加载的自定义词典的介绍，数据存储在`./data/`下：\n",
    "\n",
    "1. `genreDict.txt`：存储了 电影体裁的关键词，即结巴在分词时若遇到该词典内的词，则进行切分\n",
    "2. `movieDict.txt`：存储了 电影名字的关键词，即结巴在分词时若遇到该词典内的词，则进行切分\n",
    "3. `scoreDict.txt`：存储了 电影评分的关键词，即结巴在分词时若遇到该词典内的词，则进行切分\n",
    "4. `actorDict.txt`：存储了 演员名字的关键词，即结巴在分词时若遇到该词典内的词，则进行切分"
   ]
  },
  {
   "cell_type": "markdown",
   "metadata": {},
   "source": [
    "#### 构建自定义词典"
   ]
  },
  {
   "cell_type": "markdown",
   "metadata": {},
   "source": [
    "通过查询先前我们构造的知识图谱，我们可以获取所需要的自定义词典数据：\n",
    "\n",
    "<font color='red'>获取 电影体裁的词典</font>\n",
    "![](./image/21.png)\n",
    "\n",
    "<font color='red'>获取 电影名字的词典</font>\n",
    "![](./image/22.png)\n",
    "\n",
    "<font color='red'>获取 演员名字的词典</font>\n",
    "![](./image/23.png)\n",
    "\n",
    "<font color='red'>获取 电影评分的词典</font>\n",
    "\n",
    "由于电影评分是从0到10的浮点数，一般电影评分只保留一位小数字，而且评分值每次递增或递减都是`0.1`的差值，因此，我们可通过如下代码获取:\n",
    "```Python\n",
    "score = open('./data/dict/score.txt','w',encoding='utf-8')\n",
    "count = 0\n",
    "while count <= 10:\n",
    "    count = round(count,1)\n",
    "    score.write(str(count))\n",
    "    score.write('\\n')\n",
    "    count += 0.1\n",
    "    \n",
    "score.close()\n",
    "```\n",
    "\n",
    "<font color='red'>获取 演员出生地的词典</font>\n",
    "![](./image/26.png)"
   ]
  },
  {
   "cell_type": "markdown",
   "metadata": {},
   "source": [
    "#### 加载自定义词典，辅助分词"
   ]
  },
  {
   "cell_type": "code",
   "execution_count": 1,
   "metadata": {
    "ExecuteTime": {
     "end_time": "2019-05-02T12:23:06.185273Z",
     "start_time": "2019-05-02T12:23:04.934616Z"
    }
   },
   "outputs": [
    {
     "name": "stderr",
     "output_type": "stream",
     "text": [
      "Building prefix dict from the default dictionary ...\n",
      "Loading model from cache C:\\Users\\未央\\AppData\\Local\\Temp\\jieba.cache\n",
      "Loading model cost 0.697 seconds.\n",
      "Prefix dict has been built succesfully.\n"
     ]
    },
    {
     "name": "stdout",
     "output_type": "stream",
     "text": [
      "刘德华/参演/了/无间道/了/吗\n"
     ]
    }
   ],
   "source": [
    "import jieba as jb\n",
    "\n",
    "# 加载自定义词典\n",
    "jb.load_userdict('./data/dict/genreDict.txt')\n",
    "jb.load_userdict('./data/dict/movieDict.txt')\n",
    "jb.load_userdict('./data/dict/scoreDict.txt')\n",
    "jb.load_userdict('./data/dict/actorDict.txt')\n",
    "\n",
    "text = '刘德华参演了无间道了吗'\n",
    "result_lst = jb.cut(text)\n",
    "print('/'.join(result_lst))"
   ]
  },
  {
   "cell_type": "markdown",
   "metadata": {},
   "source": [
    "从以上结果可知，`刘德华` `无间道` 都切分出来了，前者是一个演员的名字，后者是一部电影的名字。由此，我们便可以对该句子进行改写，比如我们用`nr`表示`人名`， `nz`表示`电影名` ，那么原始句子就被改写为：**`nr` 参演 `nz` 了 吗** 。"
   ]
  },
  {
   "cell_type": "markdown",
   "metadata": {},
   "source": [
    "### 命名实体识别"
   ]
  },
  {
   "cell_type": "markdown",
   "metadata": {},
   "source": [
    "在对问句分词完毕后，我们需要识别出来问句中存在的 `电影名` `演员名` `电影体裁` `电影的评分值`等**实体**，并将这些实体用相应的`槽位标记`进行替换，形成**槽位**，进而将原问句进行改写。\n",
    "\n",
    "由于数据集的缺乏，这里的**实体识别**，我们**采用词典匹配**的方式，而放弃目前主流的`Bi-LSTM + CRF`的方式训练深度模型识别。"
   ]
  },
  {
   "cell_type": "markdown",
   "metadata": {},
   "source": [
    "#### 定义实体类别"
   ]
  },
  {
   "cell_type": "markdown",
   "metadata": {},
   "source": [
    "现在我们定义如下的**实体槽位标记**:\n",
    "1. nm：具体的电影名\n",
    "2. nnt：具体的演员名\n",
    "3. ng：具体的体裁名\n",
    "4. ps: 具体的地名\n",
    "5. x ：具体的电影评分值\n",
    "\n",
    "**实体与其槽位标记的映射表**存储在`./data/dict/entity_mapping.txt`中，在程序中，我们可以直接导入，或者直接定义一个映射表来使用即可。"
   ]
  },
  {
   "cell_type": "markdown",
   "metadata": {},
   "source": [
    "#### 识别 `具体的电影名`"
   ]
  },
  {
   "cell_type": "markdown",
   "metadata": {},
   "source": [
    "具体的电影名存储在`./data/dict/movieDict.txt`中，直接导入程序中即可。"
   ]
  },
  {
   "cell_type": "markdown",
   "metadata": {},
   "source": [
    "#### 识别 `具体的演员名`"
   ]
  },
  {
   "cell_type": "markdown",
   "metadata": {},
   "source": [
    "具体的演员名存储在`./data/dict/actorDict.txt`中，直接导入程序中即可。"
   ]
  },
  {
   "cell_type": "markdown",
   "metadata": {},
   "source": [
    "#### 识别 `具体的电影体裁`"
   ]
  },
  {
   "cell_type": "markdown",
   "metadata": {},
   "source": [
    "具体的电影体裁存储在`./data/dict/genreDict.txt`中，直接导入程序即可。"
   ]
  },
  {
   "cell_type": "markdown",
   "metadata": {},
   "source": [
    "#### 识别 `具体的电影的评分值`"
   ]
  },
  {
   "cell_type": "markdown",
   "metadata": {},
   "source": [
    "具体的电影的评分值存储在`./data/dict/scoreDict.txt`中，直接导入程序即可。"
   ]
  },
  {
   "cell_type": "markdown",
   "metadata": {},
   "source": [
    "#### 识别 `具体的地名`"
   ]
  },
  {
   "cell_type": "markdown",
   "metadata": {},
   "source": [
    "具体的演员的出生地存储在`./data/dict/placeDict.txt`中，直接导入程序即可"
   ]
  },
  {
   "cell_type": "markdown",
   "metadata": {},
   "source": [
    "### 将实体改写成槽位：改写问句"
   ]
  },
  {
   "cell_type": "markdown",
   "metadata": {},
   "source": [
    "将识别出来的实体，在原句中的位置，用实体对应的**槽位标记**进行替换，即完成**问句改写**。比如：\n",
    "\n",
    "1. 问句经过分词后：刘德华/参演/了/无间道/了/吗\n",
    "\n",
    "2. 识别出来的实体有：`刘德华` 和 `无间道`\n",
    "\n",
    "3. 这两个实体对应的槽位标记是：`nnt` `nm`\n",
    "\n",
    "4. 问句改写 的结果：`nnt`/参演/了/`nm`/了/吗"
   ]
  },
  {
   "cell_type": "markdown",
   "metadata": {},
   "source": [
    "## 定义问题类型"
   ]
  },
  {
   "cell_type": "markdown",
   "metadata": {},
   "source": [
    "根据知识图谱的存储信息，我们针对用户可能会涉及到的各种场景，定义了如下22种问题类型："
   ]
  },
  {
   "cell_type": "markdown",
   "metadata": {},
   "source": [
    "### 通过分类器来解决的问题类型"
   ]
  },
  {
   "cell_type": "markdown",
   "metadata": {},
   "source": [
    "其中14种，我们通过朴素贝叶斯分类器来处理：\n",
    "\n",
    "1. 某电影的评分\n",
    "2. 某电影的上映时间\n",
    "3. 某电影的风格类型\n",
    "4. 某电影的剧情\n",
    "5. 某电影的演员列表\n",
    "6. 某演员的基本信息\n",
    "7. 某演员出演过某个类型的电影有哪些\n",
    "8. 某演员都出演过哪些电影\n",
    "9. 某演员参演的电影评分大于某个值的电影有哪些\n",
    "10. 某演员参演的电影评分小于某个值的电影有哪些\n",
    "11. 某演员参演过哪些类型的电影\n",
    "12. 演员A和演员B合作过哪些电影\n",
    "13. 某演员目前共演过多少电影\n",
    "14. 某演员的出生日期\n",
    "\n",
    "针对每个问题类型，我们都定义了很多种类的说法，这些数据将会作为分类器训练的数据，具体存储在`./data/question/`中，截图如下：\n",
    "![](./image/24.png)"
   ]
  },
  {
   "cell_type": "markdown",
   "metadata": {},
   "source": [
    "### 通过规则匹配来解决的问题类型"
   ]
  },
  {
   "cell_type": "markdown",
   "metadata": {},
   "source": [
    "余下的8种，我们通过规则匹配来处理：\n",
    "\n",
    "1. 某风格的电影有哪些\n",
    "2. 某风格的电影评分大于某个值的电影有哪些\n",
    "3. 出演过某风格的电影的演员有哪些\n",
    "4. 评分大于某个值的电影有哪些\n",
    "5. 评分大于某个值的某种类型的电影有哪些\n",
    "6. 某演员的出生地在哪\n",
    "7. 你都知道啥\n",
    "8. 某演员参演了某部电影了吗\n",
    "\n",
    "这里的规则匹配，我们采用**正则表达式**来处理。\n",
    "\n",
    "由于我们对演员的属性：`出生地` `出生时间` 并没有进一步细化，否则，仍可以询问以下问题：\n",
    "1. 出生在同一年的演员都有哪些\n",
    "2. 属于70后的演员有哪些\n",
    "3. 某个地区出生的演员都有哪些"
   ]
  },
  {
   "cell_type": "markdown",
   "metadata": {},
   "source": [
    "## 给相应的问题类型添加数据"
   ]
  },
  {
   "cell_type": "markdown",
   "metadata": {},
   "source": [
    "对于同一类问题，我们需要丰富其 文本表达的种类"
   ]
  },
  {
   "cell_type": "markdown",
   "metadata": {},
   "source": [
    "### 分类器解决的问题"
   ]
  },
  {
   "cell_type": "markdown",
   "metadata": {},
   "source": [
    "比如，针对`某电影的评分`这个问题，我们定义了如下几种说法:\n",
    "\n",
    "![](./image/25.png)\n",
    "\n",
    "其中的`nm`是`电影名`的槽位标记，具体存储在`./data/question/`中"
   ]
  },
  {
   "cell_type": "markdown",
   "metadata": {},
   "source": [
    "### 规则匹配解决的问题"
   ]
  },
  {
   "cell_type": "markdown",
   "metadata": {},
   "source": [
    "对于规则匹配，由于需要用正则表达式来处理，因此，我们需要将对同一类问题的多种表达方式尽可能地用规则来覆盖：\n",
    "\n",
    "1. 某风格的电影有哪些：\n",
    "    1. 某类型的电影有哪些\n",
    "    2. 某体裁的电影有哪些\n",
    "    3. 某题材的电影有哪些\n",
    "    4. ....\n",
    "2. 某风格的电影评分大于某个值的电影有哪些\n",
    "    1. 某类型的电影评分大于某个值的电影有哪些\n",
    "    2. 某体裁的电影评分大于某个值的电影有哪些\n",
    "    3. 某题材的电影评分大于某个值的电影有哪些\n",
    "    4. ......\n",
    "3. 出演过某风格的电影的演员有哪些\n",
    "    1. 主演过某风格的电影的演员有哪些\n",
    "    2. 参演过某风格的电影的演员有哪些\n",
    "    3. 演过某风格的电影的演员有哪些\n",
    "    4. 出演过某类型的电影的演员有哪些\n",
    "    5. .....\n",
    "4. 评分大于某个值的电影有哪些\n",
    "    1. 打分大于某个值的电影有哪些\n",
    "    2. 得分大于某个值的电影有哪些\n",
    "    3. .......\n",
    "5. 评分大于某个值的某种类型的电影有哪些\n",
    "    1. 打分大于某个值的某种类型的电影有哪些\n",
    "    2. 得分大于某个值的某种类型的电影有哪些\n",
    "    3. 评分大于某个值的某种风格的电影有哪些\n",
    "    4. .....\n",
    "6. 某演员的出生地在哪\n",
    "    1. 某演员的出生在哪\n",
    "    2. 某演员属于哪里人\n",
    "    3. 某演员的籍贯在哪\n",
    "    4. .....\n",
    "7. 某个地区出生的演员都有哪些\n",
    "    1. 某个地区出生的演员都有哪些\n",
    "    2. 籍贯是某个地区的演员都有哪些\n",
    "    3. .....\n",
    "8. 询问机器人能回答的问题种类\n",
    "    1. 你都知道什么呀\n",
    "    2. 我能问你什么\n",
    "    3. 你能做什么\n",
    "    4. 你能干什么\n",
    "    5. ....\n",
    "    \n",
    "<font color='red'>要查看全部说法，请查看程序</font>"
   ]
  },
  {
   "cell_type": "markdown",
   "metadata": {},
   "source": [
    "## 定义问题类型对应的模板"
   ]
  },
  {
   "cell_type": "markdown",
   "metadata": {},
   "source": [
    "### 分类器对应的问题模板"
   ]
  },
  {
   "cell_type": "markdown",
   "metadata": {},
   "source": [
    "分类器解决的问题对应的问题模板，我们存储在`./data/question/question_classification.txt`中，同时各个问题对应的类别也分配完毕：\n",
    "![](./image/27.png)\n",
    "\n",
    "数字表示类别，冒号后面便是 每种问题对应的问题模板"
   ]
  },
  {
   "cell_type": "markdown",
   "metadata": {},
   "source": [
    "### 规则匹配对应的问题模板"
   ]
  },
  {
   "cell_type": "markdown",
   "metadata": {},
   "source": [
    "这9类问题对应的规则有:\n",
    "\n",
    "1. 某风格的电影有哪些\n",
    "    1. `ng.*[电影|影片|片子]`: ng代表具体的电影风格，或类型，体裁，题材\n",
    "    2. `[电影|影片|片子].*ng`: 含义是 电影风格是ng的电影有哪些\n",
    "\n",
    "2. 某风格的电影评分大于某个值的电影有哪些\n",
    "    1. `ng.*[电影|影片|片子].*[得分|评分|打分].*[大于|大|高|高于|超过].*x`： x是电影得分的槽位标记\n",
    "\n",
    "3. 出演过某风格的电影的演员有哪些\n",
    "    1. `[出演|主演|演过|拍过].*ng.*nnt` : nnt代表演员\n",
    "\n",
    "\n",
    "4. 评分大于某个值的电影有哪些\n",
    "    1. `[^(nnt)].*[得分|评分|打分|分数].*[大于|大|高于|高|超过].*x`\n",
    "\n",
    "\n",
    "5. 评分大于某个值的某种类型的电影有哪些\n",
    "    1. `[^(nnt)][得分|评分|打分|分数].*[大于|大|高于|高|超过].*x.*ng`\n",
    "    \n",
    "\n",
    "6. 某演员的出生地在哪\n",
    "    1. `nnt.*[出生地|长大|成长|籍贯|国籍|哪国|]`\n",
    "    \n",
    "\n",
    "7. 某演员参演过某部电影吗\n",
    "    1. `nnt.*[参演|出演|演过|拍|拍过|主演].*nm`\n",
    "    \n",
    "    \n",
    "8. 某演员的电影评分在某个值之上的电影有哪些:\n",
    "    1. `nnt.*[电影|影片|片子|片].*[得分|评分|打分|分数].*[大于|大|高于|高|超过].*x`\n",
    "    2. `nnt.*[电影|影片|片子|片].*[得分|评分|打分|分数].*在.*x.*之上`\n",
    "    \n",
    " \n",
    "9. 你都知道啥\n",
    "    1. `[知道|会|能干|能做].*[什么|啥]`"
   ]
  },
  {
   "cell_type": "markdown",
   "metadata": {},
   "source": [
    "## 定义问题模板对应的Cypher语句"
   ]
  },
  {
   "cell_type": "markdown",
   "metadata": {},
   "source": [
    "### 分类器解决问题类型的 CQL语句"
   ]
  },
  {
   "cell_type": "markdown",
   "metadata": {},
   "source": [
    "注意，在配置文件中书写时，`%s`应改写为`%%s`，以提醒配置解析器，读取出`%s`！\n",
    "\n",
    "\n",
    "1. 某电影的评分：`match(m:Movie) where m.title=\"%s\" return m.rating` 这里`%s`是电影名的槽位标记\n",
    "\n",
    "\n",
    "2. 某电影的上映时间：`match(m:Movie) where m.title=\"%s\" return m.releasedate` 这里`%s`是电影名的槽位标记\n",
    "\n",
    "\n",
    "3. 某电影的风格类型: `match(m:Movie)-[r:is]->(g:Genre) where m.title=\"%s\"  return g.name`  这里`%s`是电影名的槽位标记\n",
    "\n",
    "\n",
    "4. 某电影的剧情: `match(m:Movie) where m.title=\"%s\" return m.introduction`  这里`%s`是电影名的槽位标记\n",
    "\n",
    "\n",
    "5. 某电影的演员列表: `match(p:Actor)-[r:参演]->(m:Movie) where m.title=\"%s\" return distinct p.name`  这里`%s`是电影名的槽位标记\n",
    "\n",
    "\n",
    "6. 某演员的基本信息: `match(p:Actor) where p.name=\"%s\" return p.biography`  这里`%s`是演员的名字\n",
    "\n",
    "\n",
    "7. 某演员出演过某个类型的电影有哪些: `match(p:Actor{name:\"%s\"})-[r:参演]->(m:Movie) with m match(m:Movie)-[r:is]->(g:Genre{name:\"%s\"}) return m.title`  第一个`%s`是演员的名字,第二个`%s`是电影的类型名\n",
    "\n",
    "\n",
    "8. 某演员都出演过哪些电影：`match(p:Actor)-[r:参演]->(m:Movie) where p.name=\"%s\" return m.title` 这里`%s`是演员的名字\n",
    "\n",
    "\n",
    "9. 某演员参演的电影评分大于某个值的电影有哪些：`match(p:Actor)-[r:参演]->(m:Movie) where p.name=\"%s\" and m.rating >= %.1f return m.title` 第一个`%s` 是演员的名字，第二个`%.1f` 是电影的评分值\n",
    "\n",
    "\n",
    "10. 某演员参演的电影评分小于某个值的电影有哪些：`match(p:Actor)-[r:参演]->(m:Movie) where p.name=\"%s\" and m.rating < %.1f return m.title` 第一个`%s` 是演员的名字，第二个`%.1f` 是电影的评分值\n",
    "\n",
    "\n",
    "11. 某演员参演过哪些类型的电影：`match(p:Actor)-[r:参演]->(m:Movie) where p.name=\"%s\" with m match(m:Movie)-[r:is]->(g:Genre) return distinct g.name`  这里`%s` 是演员的名字 ，`distinct` 是去重\n",
    "\n",
    "\n",
    "12. 演员A和演员B合作过哪些电影：`match(p1:Actor)-[r:参演]->(m:Movie) where p1.name=\"%s\" with m match(p2:Actor)-[r:参演]->(m:Movie) where p2.name=\"%s\" return m.title` 第一个`%s`是演员A的名字，第二个`%s`是演员B的名字 ； 或者，`match(p1:Actor)--(m:Movie)--(p2:Actor) where p1.name=\"%s\" and p2.name=\"%s\" return m.title`  第一个`%s`是演员A的名字，第二个`%s`是演员B的名字\n",
    "\n",
    "\n",
    "13. 某演员目前共演过多少电影：`match(p:Actor)-[r:参演]-(m:Movie) where p.name=\"%s\" return count(m.title)` 这里`%s`是演员的名字\n",
    "\n",
    "\n",
    "14. 某演员的出生日期：`match(p:Actor) where p.name=\"%s\" return p.birth`"
   ]
  },
  {
   "cell_type": "markdown",
   "metadata": {},
   "source": [
    "### 规则匹配 解决问题类型的 CQL语句"
   ]
  },
  {
   "cell_type": "markdown",
   "metadata": {},
   "source": [
    "1. 某风格的电影有哪些：`match(m:Movie)-[r:is]->(g:Genre) where g.name=\"%s\" return m.title`  这里`%s`是电影的风格\n",
    "\n",
    "\n",
    "2. 某风格的电影评分大于某个值的电影有哪些：`match(m:Movie)-[r:is]->(g:Genre) where g.name=\"%s\" and m.rating >= %.1f return m.title`  这里`%s`是电影风格的名字，`%.1f`是电影评分值\n",
    "    \n",
    "\n",
    "3. 出演过某风格的电影的演员有哪些：`match(p:Actor)-[r1:参演]->(m:Movie)-[r2:is]->(g:Genre) where g.name=\"%s\" return distinct p.name` 这里`%s`是电影风格的名字\n",
    "    \n",
    "\n",
    "\n",
    "4. 评分大于某个值的电影有哪些：`match(m:Movie) where m.rating >= %.1f return distinct m.title` 这里`%.1f`是电影的评分值\n",
    "    \n",
    "\n",
    "5. 评分大于某个值的某种类型的电影有哪些：`match(m:Movie)-[r:is]->(g:Genre) where g.name = \"%s\" and m.rating >= %.1f return distinct m.title` 这里`%s`是电影的类型名，`%.1f`是电影的评分值\n",
    "    \n",
    "\n",
    "6. 某演员的出生地在哪：`match(p:Actor) where p.name=\"%s\" return p.birthplace` 这里`%s`是演员的名字\n",
    "    \n",
    "\n",
    "7. 某演员参演了某部电影了吗: `match(p:Actor)-[r:参演]->(m:Movie) where p.name=\"%s\" and m.title=\"%s\" return r.pid` 这里第一个`%s`是演员名字，第二个`%s`是电影名，返回的是`r.pid` 以判断是否存在此关系\n",
    "\n",
    "\n",
    "8. 某演员的电影评分在某个值之上的电影有哪些: `match(p:Actor)-[r:参演]->(m:Movie) where p.name=\"%%s\" and m.rating >= %%.1f return m.title` 这里第一个`%s`是演员名，第二个`%.1f`是评分值\n",
    "\n",
    "\n",
    "9. 你都知道啥: 不需要查询语句 "
   ]
  },
  {
   "cell_type": "markdown",
   "metadata": {},
   "source": [
    "## 训练分类器：匹配问句模板"
   ]
  },
  {
   "cell_type": "markdown",
   "metadata": {},
   "source": [
    "分类器我们采用朴素贝叶斯分类器，训练分类器，具体实现请查看`./src/TrainClassifier.py`，分类器预测，具体查看`./src/ClassifierModel.py`"
   ]
  },
  {
   "cell_type": "markdown",
   "metadata": {},
   "source": [
    "## 程序识别两类问题的处理逻辑"
   ]
  },
  {
   "cell_type": "markdown",
   "metadata": {},
   "source": [
    "程序流程：\n",
    "1. 程序首次启动时，随机输出如下开头欢迎语：\n",
    "    1. 您好，我是机器人白蛋蛋，欢迎咨询我如下类型的问题：`这里需要将系统能回答的问题类型，输出`\n",
    "    2. 啥事儿，傻鸡，我今天不爽，有屁快放.....\n",
    "    3. 您好，很高兴为您服务。。。\n",
    "2. 获取用户输入的问题，将问句分词；\n",
    "3. 然后做命名实体识别；\n",
    "4. 之后再做槽位标记改写；\n",
    "5. 规则匹配： 然后用已经定义好的模板来匹配改写后的问句，如果成功，则转入7；否则转入9；\n",
    "    1. 规则匹配的原则是：匹配尽可能多的槽位标记;如果匹配的槽位标记相同，则都返回；\n",
    "6. 分类器匹配： 若模板匹配不成功，则将改写后的问句放入分类器中进行分类。如果分类器识别出来的最大概率类别的概率值大于等于0.5，则转入7；如果分类器识别出来的最大概率类别的概率值小于阈值threshold，则转入9；\n",
    "7. 将分类器或模板匹配出来的问题类型，所对应的Cypher语句，进行槽位填充：\n",
    "    1. 如果Cypher语句槽位填充顺利，即槽位都填满，则转入8\n",
    "    2. 如果Cypher语句槽位填充失败，即槽位不够，则转入9\n",
    "8. 调用neo4j，用Cypher语句查询：\n",
    "    1. 如果有返回内容，则输出\n",
    "    2. 如果没有返回内容，则转入9\n",
    "9. 如果程序无法识别出用户的问题，则随机输出如下提示语句：\n",
    "    1. 抱歉，您能再描述一下问题吗？\n",
    "    2. 抱歉，我可能无法回答您的问题....\n",
    "    3. 抱歉，您可以问我如下类型的问题：`这里需要将系统能回答的问题类型，输出`\n",
    "\n",
    "10. 如果程序经过查询后，发现没有查询到任何结果，则随机输出如下提示语句:\n",
    "    1. 抱歉，我真的不知道这个问题的答案\n",
    "    2. 抱歉，经过努力搜索后，我没有找到相应的结果，你换其它问题吧\n",
    "    3. 抱歉，这个问题，我爸爸还没教会我\n",
    "\n",
    "11. 返回查询语句的内容给用户，然后程序处于监听状态中，等待用户继续输入"
   ]
  },
  {
   "cell_type": "markdown",
   "metadata": {},
   "source": [
    "## 问句模板转换为Cypher查询语句"
   ]
  },
  {
   "cell_type": "markdown",
   "metadata": {},
   "source": [
    "当我们用规则和分类器识别出，问题对应的类型后，我们只需要将问题对应的CQL语句的槽位标记填充上相应的真实值即可，例如：\n",
    "\n",
    "1. 原问题：`刘德华的演过哪些电影`\n",
    "\n",
    "\n",
    "2. 匹配出的问题类型是：分类器对应的第8个问题  `某演员都出演过哪些电影`\n",
    "\n",
    "\n",
    "3. 该类型的问题对应的Cypher查询语句：`match(p:Actor)-[r:参演]->(m:Movie) where p.name=\"%s\" return m.title` 这里`%s`是演员的名字\n",
    "\n",
    "\n",
    "4. 将该查询语句的槽位出，填充上实际的值：`'match(p:Actor)-[r:参演]->(m:Movie) where p.name=\"%s\" return m.title'%('刘德华')`"
   ]
  },
  {
   "cell_type": "markdown",
   "metadata": {},
   "source": [
    "## 用Python调用neo4j查询知识图谱"
   ]
  },
  {
   "cell_type": "markdown",
   "metadata": {},
   "source": [
    "```Python\n",
    "\n",
    "statement = 'match(p:Actor)-[r:参演]->(m:Movie) where p.name=\"%s\" return m.title'%('刘德华')\n",
    "cursor = graph.run(statement)\n",
    "while cursor.forward():\n",
    "    print(cursor.current)\n",
    "```"
   ]
  },
  {
   "cell_type": "markdown",
   "metadata": {},
   "source": [
    "## 返回结果"
   ]
  },
  {
   "cell_type": "markdown",
   "metadata": {},
   "source": [
    "![](./image/29.png)"
   ]
  },
  {
   "cell_type": "markdown",
   "metadata": {},
   "source": [
    "## 结束对话"
   ]
  },
  {
   "cell_type": "markdown",
   "metadata": {},
   "source": [
    "![](./image/30.png)"
   ]
  }
 ],
 "metadata": {
  "kernelspec": {
   "display_name": "Python 3",
   "language": "python",
   "name": "python3"
  },
  "language_info": {
   "codemirror_mode": {
    "name": "ipython",
    "version": 3
   },
   "file_extension": ".py",
   "mimetype": "text/x-python",
   "name": "python",
   "nbconvert_exporter": "python",
   "pygments_lexer": "ipython3",
   "version": "3.6.7"
  },
  "toc": {
   "base_numbering": 1,
   "nav_menu": {},
   "number_sections": true,
   "sideBar": true,
   "skip_h1_title": false,
   "title_cell": "Table of Contents",
   "title_sidebar": "Contents",
   "toc_cell": false,
   "toc_position": {
    "height": "calc(100% - 180px)",
    "left": "10px",
    "top": "150px",
    "width": "384px"
   },
   "toc_section_display": true,
   "toc_window_display": true
  },
  "varInspector": {
   "cols": {
    "lenName": 16,
    "lenType": 16,
    "lenVar": 40
   },
   "kernels_config": {
    "python": {
     "delete_cmd_postfix": "",
     "delete_cmd_prefix": "del ",
     "library": "var_list.py",
     "varRefreshCmd": "print(var_dic_list())"
    },
    "r": {
     "delete_cmd_postfix": ") ",
     "delete_cmd_prefix": "rm(",
     "library": "var_list.r",
     "varRefreshCmd": "cat(var_dic_list()) "
    }
   },
   "types_to_exclude": [
    "module",
    "function",
    "builtin_function_or_method",
    "instance",
    "_Feature"
   ],
   "window_display": false
  }
 },
 "nbformat": 4,
 "nbformat_minor": 2
}
